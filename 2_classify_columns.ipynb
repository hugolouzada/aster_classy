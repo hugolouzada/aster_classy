{
 "cells": [
  {
   "cell_type": "markdown",
   "metadata": {
    "collapsed": true
   },
   "source": [
    "#Checking each column of the population of asteriod\n",
    "\n",
    "\n",
    "classify them as id, feature, target"
   ]
  },
  {
   "cell_type": "code",
   "execution_count": 1,
   "metadata": {},
   "outputs": [],
   "source": [
    "import pandas as pd"
   ]
  },
  {
   "cell_type": "code",
   "execution_count": 3,
   "metadata": {},
   "outputs": [
    {
     "data": {
      "text/plain": [
       "(732354, 68)"
      ]
     },
     "execution_count": 2,
     "metadata": {},
     "output_type": "execute_result"
    }
   ],
   "source": [
    "pop_df = pd.read_csv(\"Data/Computed/jpl_population_20170408.csv\", low_memory=False, index_col='id')\n",
    "pop_df.shape"
   ]
  },
  {
   "cell_type": "code",
   "execution_count": 4,
   "metadata": {},
   "outputs": [
    {
     "data": {
      "text/plain": [
       "Index(['spkid', 'full_name', 'pdes', 'name', 'neo', 'pha', 'H', 'G',\n       'diameter', 'extent', 'albedo', 'rot_per', 'GM', 'BV', 'UB', 'IR',\n       'spec_B', 'spec_T', 'H_sigma', 'diameter_sigma', 'orbit_id', 'epoch',\n       'epoch_mjd', 'epoch_cal', 'equinox', 'e', 'a', 'q', 'i', 'om', 'w',\n       'ma', 'ad', 'n', 'tp', 'tp_cal', 'per', 'per_y', 'moid', 'moid_ld',\n       'moid_jup', 't_jup', 'sigma_e', 'sigma_a', 'sigma_q', 'sigma_i',\n       'sigma_om', 'sigma_w', 'sigma_ma', 'sigma_ad', 'sigma_n', 'sigma_tp',\n       'sigma_per', 'class', 'producer', 'data_arc', 'first_obs', 'last_obs',\n       'n_obs_used', 'n_del_obs_used', 'n_dop_obs_used', 'condition_code',\n       'rms', 'two_body', 'A1', 'A2', 'asterank_pdes', 'dv'],\n      dtype='object')"
      ]
     },
     "execution_count": 4,
     "metadata": {},
     "output_type": "execute_result"
    }
   ],
   "source": [
    "pop_df.columns"
   ]
  },
  {
   "cell_type": "markdown",
   "metadata": {},
   "source": [
    "##spkid"
   ]
  },
  {
   "cell_type": "code",
   "execution_count": 14,
   "metadata": {},
   "outputs": [
    {
     "data": {
      "text/plain": [
       "count    7.323540e+05\nmean     2.688783e+06\nstd      6.455742e+05\nmin      2.000001e+06\n25%      2.183089e+06\n50%      2.366178e+06\n75%      3.487586e+06\nmax      3.773839e+06\nName: spkid, dtype: float64"
      ]
     },
     "execution_count": 14,
     "metadata": {},
     "output_type": "execute_result"
    }
   ],
   "source": [
    "pop_df['spkid'].describe()"
   ]
  },
  {
   "cell_type": "code",
   "execution_count": 13,
   "metadata": {},
   "outputs": [
    {
     "data": {
      "text/plain": [
       "count      732354\nunique     732354\ntop       3308066\nfreq            1\nName: spkid, dtype: object"
      ]
     },
     "execution_count": 13,
     "metadata": {},
     "output_type": "execute_result"
    }
   ],
   "source": [
    "pop_df['spkid'].astype(str).describe()"
   ]
  },
  {
   "cell_type": "code",
   "execution_count": 12,
   "metadata": {},
   "outputs": [
    {
     "data": {
      "text/plain": [
       "<bound method NDFrame.isnull of id\na0000001    2000001\na0000002    2000002\na0000003    2000003\na0000004    2000004\na0000005    2000005\na0000006    2000006\na0000007    2000007\na0000008    2000008\na0000009    2000009\na0000010    2000010\na0000011    2000011\na0000012    2000012\na0000013    2000013\na0000014    2000014\na0000015    2000015\na0000016    2000016\na0000017    2000017\na0000018    2000018\na0000019    2000019\na0000020    2000020\na0000021    2000021\na0000022    2000022\na0000023    2000023\na0000024    2000024\na0000025    2000025\na0000026    2000026\na0000027    2000027\na0000028    2000028\na0000029    2000029\na0000030    2000030\n             ...   \nbK17G05Q    3773834\nbK17G05R    3773835\nbK17G05S    3773836\nbK17G05T    3773837\nbK17G05U    3773838\nbPLS2108    3090283\nbPLS2181    3246486\nbPLS4198    3246697\nbPLS4532    3246735\nbPLS4702    3246743\nbPLS4717    3246747\nbPLS4847    3246764\nbPLS6013    3246801\nbPLS6331    3246834\nbPLS6344    3013075\nbPLS6879    3246879\nbT2S1077    3184992\nbT2S1168    3185010\nbT2S1453    3185035\nbT2S2060    3246457\nbT2S3056    3246592\nbT3S1131    3185003\nbT3S2620    3246541\nbT3S2678    3246553\nbT3S3411    3246664\nbT3S3521    3246672\nbT3S4150    3248587\nbT3S4571    3248621\nbT3S4658    3248624\nbT3S5154    3248651\nName: spkid, dtype: int64>"
      ]
     },
     "execution_count": 12,
     "metadata": {},
     "output_type": "execute_result"
    }
   ],
   "source": [
    ""
   ]
  }
 ],
 "metadata": {
  "kernelspec": {
   "display_name": "Python 2",
   "language": "python",
   "name": "python2"
  },
  "language_info": {
   "codemirror_mode": {
    "name": "ipython",
    "version": 2.0
   },
   "file_extension": ".py",
   "mimetype": "text/x-python",
   "name": "python",
   "nbconvert_exporter": "python",
   "pygments_lexer": "ipython2",
   "version": "2.7.6"
  }
 },
 "nbformat": 4,
 "nbformat_minor": 0
}