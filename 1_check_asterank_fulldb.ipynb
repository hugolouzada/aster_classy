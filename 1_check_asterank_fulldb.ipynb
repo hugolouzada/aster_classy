{
 "cells": [
  {
   "cell_type": "code",
   "execution_count": 2,
   "metadata": {
    "collapsed": true
   },
   "outputs": [],
   "source": [
    "import pandas as pd"
   ]
  },
  {
   "cell_type": "code",
   "execution_count": 9,
   "metadata": {},
   "outputs": [
    {
     "data": {
      "text/plain": [
       "(732354, 74)"
      ]
     },
     "execution_count": 9,
     "metadata": {},
     "output_type": "execute_result"
    }
   ],
   "source": [
    "jpl_df = pd.read_csv(\"Data/JPL_results_20170408.csv\", low_memory=False, index_col='id')\n",
    "jpl_df.shape"
   ]
  },
  {
   "cell_type": "code",
   "execution_count": 4,
   "metadata": {
    "collapsed": false
   },
   "outputs": [
    {
     "data": {
      "text/plain": [
       "Index(['spkid', 'full_name', 'pdes', 'name', 'prefix', 'neo', 'pha', 'H', 'G',\n       'M1', 'M2', 'K1', 'K2', 'PC', 'diameter', 'extent', 'albedo', 'rot_per',\n       'GM', 'BV', 'UB', 'IR', 'spec_B', 'spec_T', 'H_sigma', 'diameter_sigma',\n       'orbit_id', 'epoch', 'epoch_mjd', 'epoch_cal', 'equinox', 'e', 'a', 'q',\n       'i', 'om', 'w', 'ma', 'ad', 'n', 'tp', 'tp_cal', 'per', 'per_y', 'moid',\n       'moid_ld', 'moid_jup', 't_jup', 'sigma_e', 'sigma_a', 'sigma_q',\n       'sigma_i', 'sigma_om', 'sigma_w', 'sigma_ma', 'sigma_ad', 'sigma_n',\n       'sigma_tp', 'sigma_per', 'class', 'producer', 'data_arc', 'first_obs',\n       'last_obs', 'n_obs_used', 'n_del_obs_used', 'n_dop_obs_used',\n       'condition_code', 'rms', 'two_body', 'A1', 'A2', 'A3', 'DT'],\n      dtype='object')"
      ]
     },
     "execution_count": 4,
     "metadata": {},
     "output_type": "execute_result"
    }
   ],
   "source": [
    "jpl_df.columns"
   ]
  },
  {
   "cell_type": "code",
   "execution_count": 6,
   "metadata": {},
   "outputs": [
    {
     "data": {
      "text/plain": [
       "(735783, 74)"
      ]
     },
     "execution_count": 6,
     "metadata": {},
     "output_type": "execute_result"
    }
   ],
   "source": [
    "asterank_df = pd.read_csv(\"Data/Asterank_latest_fulldb.csv\", low_memory=False, index_col='id')\n",
    "asterank_df.shape"
   ]
  },
  {
   "cell_type": "code",
   "execution_count": 7,
   "metadata": {},
   "outputs": [
    {
     "data": {
      "text/plain": [
       "Index(['spkid', 'full_name', 'pdes', 'name', 'prefix', 'neo', 'pha', 'H', 'G',\n       'M1', 'M2', 'K1', 'K2', 'PC', 'diameter', 'extent', 'albedo', 'rot_per',\n       'GM', 'BV', 'UB', 'IR', 'spec_B', 'spec_T', 'H_sigma', 'diameter_sigma',\n       'orbit_id', 'epoch', 'epoch_mjd', 'epoch_cal', 'equinox', 'e', 'a', 'q',\n       'i', 'om', 'w', 'ma', 'ad', 'n', 'tp', 'tp_cal', 'per', 'per_y', 'moid',\n       'moid_ld', 'moid_jup', 't_jup', 'sigma_e', 'sigma_a', 'sigma_q',\n       'sigma_i', 'sigma_om', 'sigma_w', 'sigma_ma', 'sigma_ad', 'sigma_n',\n       'sigma_tp', 'sigma_per', 'class', 'producer', 'data_arc', 'first_obs',\n       'last_obs', 'n_obs_used', 'n_del_obs_used', 'n_dop_obs_used',\n       'condition_code', 'rms', 'two_body', 'A1', 'A2', 'A3', 'DT'],\n      dtype='object')"
      ]
     },
     "execution_count": 7,
     "metadata": {},
     "output_type": "execute_result"
    }
   ],
   "source": [
    "asterank_df.columns"
   ]
  },
  {
   "cell_type": "code",
   "execution_count": 11,
   "metadata": {},
   "outputs": [
    {
     "data": {
      "text/plain": [
       "(732231, 1)"
      ]
     },
     "execution_count": 11,
     "metadata": {},
     "output_type": "execute_result"
    }
   ],
   "source": [
    "pd.merge(jpl_df[['spkid']],asterank_df[['spkid']],on='spkid').shape"
   ]
  },
  {
   "cell_type": "markdown",
   "metadata": {},
   "source": [
    "it looks like both db's are very similar\n",
    "\n",
    "it terms of column, the same in fact.\n",
    "\n",
    "maybe check in the future this small inconsistency of rows"
   ]
  }
 ],
 "metadata": {
  "kernelspec": {
   "display_name": "Python 2",
   "language": "python",
   "name": "python2"
  },
  "language_info": {
   "codemirror_mode": {
    "name": "ipython",
    "version": 2.0
   },
   "file_extension": ".py",
   "mimetype": "text/x-python",
   "name": "python",
   "nbconvert_exporter": "python",
   "pygments_lexer": "ipython2",
   "version": "2.7.6"
  }
 },
 "nbformat": 4,
 "nbformat_minor": 0
}