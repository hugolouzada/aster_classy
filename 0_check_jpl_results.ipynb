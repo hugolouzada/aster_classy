{
 "cells": [
  {
   "cell_type": "markdown",
   "metadata": {
    "collapsed": true
   },
   "source": [
    "#Check asteroid data"
   ]
  },
  {
   "cell_type": "code",
   "execution_count": 1,
   "metadata": {},
   "outputs": [],
   "source": [
    "import pandas as pd"
   ]
  },
  {
   "cell_type": "code",
   "execution_count": 8,
   "metadata": {},
   "outputs": [
    {
     "name": "stdout",
     "output_type": "stream",
     "text": [
      "rows =732354\ncolumns = 74\n"
     ]
    }
   ],
   "source": [
    "jpl_df = pd.read_csv(\"Data/JPL_results_20170408.csv\", low_memory=False, index_col='id')\n",
    "\n",
    "print(\"rows =%d\"%len(jpl_df))\n",
    "print(\"columns = %d\"%len(jpl_df.columns))"
   ]
  },
  {
   "cell_type": "code",
   "execution_count": 48,
   "metadata": {},
   "outputs": [
    {
     "data": {
      "text/plain": [
       "pdes                    138911\nfull_name    138911 (2001 AE2)\nName: a0138911, dtype: object"
      ]
     },
     "execution_count": 48,
     "metadata": {},
     "output_type": "execute_result"
    }
   ],
   "source": [
    "jpl_df[['pdes','full_name']].loc['a0138911']"
   ]
  },
  {
   "cell_type": "code",
   "execution_count": 49,
   "metadata": {},
   "outputs": [
    {
     "data": {
      "text/html": [
       "<div>\n",
       "<table border=\"1\" class=\"dataframe\">\n",
       "  <thead>\n",
       "    <tr style=\"text-align: right;\">\n",
       "      <th></th>\n",
       "      <th>pdes</th>\n",
       "      <th>full_name</th>\n",
       "    </tr>\n",
       "    <tr>\n",
       "      <th>id</th>\n",
       "      <th></th>\n",
       "      <th></th>\n",
       "    </tr>\n",
       "  </thead>\n",
       "  <tbody>\n",
       "    <tr>\n",
       "      <th>a0000001</th>\n",
       "      <td>1</td>\n",
       "      <td>1 Ceres</td>\n",
       "    </tr>\n",
       "    <tr>\n",
       "      <th>a0000002</th>\n",
       "      <td>2</td>\n",
       "      <td>2 Pallas</td>\n",
       "    </tr>\n",
       "    <tr>\n",
       "      <th>a0000003</th>\n",
       "      <td>3</td>\n",
       "      <td>3 Juno</td>\n",
       "    </tr>\n",
       "  </tbody>\n",
       "</table>\n",
       "</div>"
      ],
      "text/plain": [
       "<div>\n",
       "<table border=\"1\" class=\"dataframe\">\n",
       "  <thead>\n",
       "    <tr style=\"text-align: right;\">\n",
       "      <th></th>\n",
       "      <th>pdes</th>\n",
       "      <th>full_name</th>\n",
       "    </tr>\n",
       "    <tr>\n",
       "      <th>id</th>\n",
       "      <th></th>\n",
       "      <th></th>\n",
       "    </tr>\n",
       "  </thead>\n",
       "  <tbody>\n",
       "    <tr>\n",
       "      <th>a0000001</th>\n",
       "      <td>1</td>\n",
       "      <td>1 Ceres</td>\n",
       "    </tr>\n",
       "    <tr>\n",
       "      <th>a0000002</th>\n",
       "      <td>2</td>\n",
       "      <td>2 Pallas</td>\n",
       "    </tr>\n",
       "    <tr>\n",
       "      <th>a0000003</th>\n",
       "      <td>3</td>\n",
       "      <td>3 Juno</td>\n",
       "    </tr>\n",
       "  </tbody>\n",
       "</table>\n",
       "</div>"
      ]
     },
     "execution_count": 49,
     "metadata": {},
     "output_type": "execute_result"
    }
   ],
   "source": [
    "jpl_df[['pdes','full_name']].head(3)"
   ]
  },
  {
   "cell_type": "code",
   "execution_count": 57,
   "metadata": {
    "collapsed": false
   },
   "outputs": [
    {
     "data": {
      "text/plain": [
       "732022"
      ]
     },
     "execution_count": 57,
     "metadata": {},
     "output_type": "execute_result"
    }
   ],
   "source": [
    "len(jpl_df[['pdes','full_name']][jpl_df['full_name'].str.contains('\\(')])"
   ]
  },
  {
   "cell_type": "markdown",
   "metadata": {},
   "source": [
    "It looks like full_name is a combination of pdes and prov_des"
   ]
  },
  {
   "cell_type": "code",
   "execution_count": 10,
   "metadata": {},
   "outputs": [],
   "source": [
    "asteroid_rank_columns = {\n",
    "      \"sigma_tp\":4.4133e-05,\n",
    "      \"diameter\":\"\",\n",
    "      \"tp\":2456656.02501109,\n",
    "      \"epoch_mjd\":56400.0,\n",
    "      \"ad\":1.459936639399153,\n",
    "      \"producer\":\"Otto Matic\",\n",
    "      \"rms\":0.57773,\n",
    "      \"H_sigma\":0.66439,\n",
    "      \"closeness\":4.659571917281135,\n",
    "      \"spec\":\"T\",\n",
    "      \"K2\":\"\",\n",
    "      \"K1\":\"\",\n",
    "      \"M1\":\"\",\n",
    "      \"n_dop_obs_used\":\"\",\n",
    "      \"full_name\":\"138911 (2001 AE2)\",\n",
    "      \"M2\":\"\",\n",
    "      \"prov_des\":\"2001 AE2\",\n",
    "      \"equinox\":\"J2000\",\n",
    "      \"DT\":\"\",\n",
    "      \"diameter_sigma\":\"\",\n",
    "      \"saved\":-8641518801655.289,\n",
    "      \"albedo\":\"\",\n",
    "      \"moid_ld\":90.96226078,\n",
    "      \"two_body\":\"\",\n",
    "      \"neo\":\"Y\",\n",
    "      \"prefix\":\"\",\n",
    "      \"sigma_ad\":3.3626e-09,\n",
    "      \"score\":3.4508560938390502e-06,\n",
    "      \"data_arc\":10120.0,\n",
    "      \"profit\":2146841.445758379,\n",
    "      \"sigma_q\":5.7701e-08,\n",
    "      \"sigma_w\":0.00015086,\n",
    "      \"epoch\":2456400.5,\n",
    "      \"per\":572.7291693097955,\n",
    "      \"id\":\"a0138911\",\n",
    "      \"A1\":\"\",\n",
    "      \"PC\":\"\",\n",
    "      \"A3\":\"\",\n",
    "      \"A2\":\"\",\n",
    "      \"per_y\":1.5680470070083,\n",
    "      \"n_opp\":\"\",\n",
    "      \"epoch_cal\":20130418.0,\n",
    "      \"orbit_id\":\"JPL 82\",\n",
    "      \"sigma_a\":3.1086e-09,\n",
    "      \"sigma_om\":0.00014823,\n",
    "      \"price\":17254280.46919525,\n",
    "      \"sigma_e\":4.2218e-08,\n",
    "      \"condition_code\":0.0,\n",
    "      \"rot_per\":\"\",\n",
    "      \"G\":\"\",\n",
    "      \"last_obs\":\"2012-04-17\",\n",
    "      \"H\":19.032,\n",
    "      \"pha\":\"N\",\n",
    "      \"IR\":\"\",\n",
    "      \"inexact\":True,\n",
    "      \"spec_T\":\"\",\n",
    "      \"tp_cal\":20131229.5250111,\n",
    "      \"n_obs_used\":381.0,\n",
    "      \"moid\":0.233734,\n",
    "      \"extent\":\"\",\n",
    "      \"dv\":4.057,\n",
    "      \"ma\":199.3848106194188,\n",
    "      \"GM\":\"\",\n",
    "      \"pdes\":138911.0,\n",
    "      \"class\":\"AMO\",\n",
    "      \"a\":1.349689648496459,\n",
    "      \"t_jup\":4.87,\n",
    "      \"om\":171.4867878184716,\n",
    "      \"e\":0.08168321586040721,\n",
    "      \"name\":\"\",\n",
    "      \"i\":1.661150372152747,\n",
    "      \"sigma_per\":1.9787e-06,\n",
    "      \"BV\":\"\",\n",
    "      \"n\":0.6285693470682512,\n",
    "      \"q\":1.239442657593766,\n",
    "      \"sigma_i\":3.6361e-06,\n",
    "      \"w\":43.09771100599832,\n",
    "      \"sigma_ma\":2.7756e-05,\n",
    "      \"first_obs\":\"1984-08-02\",\n",
    "      \"n_del_obs_used\":\"\",\n",
    "      \"sigma_n\":2.1716e-09,\n",
    "      \"spkid\":2138911.0,\n",
    "      \"UB\":\"\"\n",
    "   }"
   ]
  },
  {
   "cell_type": "code",
   "execution_count": 11,
   "metadata": {},
   "outputs": [
    {
     "name": "stdout",
     "output_type": "stream",
     "text": [
      "spec_B\nmoid_jup\n"
     ]
    }
   ],
   "source": [
    "for col in jpl_df.columns:\n",
    "    if col not in asteroid_rank_columns.keys():\n",
    "        print(col)"
   ]
  },
  {
   "cell_type": "markdown",
   "metadata": {},
   "source": [
    "it looks like we have some extra columns in jpl"
   ]
  },
  {
   "cell_type": "code",
   "execution_count": 12,
   "metadata": {},
   "outputs": [
    {
     "name": "stdout",
     "output_type": "stream",
     "text": [
      "closeness\nspec\nprov_des\nsaved\nscore\nprofit\nid\nn_opp\nprice\ninexact\ndv\n"
     ]
    }
   ],
   "source": [
    "for col in asteroid_rank_columns:\n",
    "    if col not in jpl_df.columns:\n",
    "        print(col)"
   ]
  },
  {
   "cell_type": "markdown",
   "metadata": {},
   "source": [
    "AsteroidRank has some extra stuff.\n",
    "\n",
    "We can get dv from their github.\n",
    "\n",
    "score and price seem to be their predict values. We shall investigate the others later."
   ]
  },
  {
   "cell_type": "code",
   "execution_count": 21,
   "metadata": {
    "collapsed": false
   },
   "outputs": [
    {
     "name": "stdout",
     "output_type": "stream",
     "text": [
      "prefix\n\t but in asteroind_rank_columns\nM1\n\t but in asteroind_rank_columns\nM2\n\t but in asteroind_rank_columns\nK1\n\t but in asteroind_rank_columns\nK2\n\t but in asteroind_rank_columns\nPC\n\t but in asteroind_rank_columns\nA3\n\t but in asteroind_rank_columns\nDT\n\t but in asteroind_rank_columns\n"
     ]
    }
   ],
   "source": [
    "col_count = jpl_df.count()\n",
    "zero_cols = []\n",
    "for key, value in dict(col_count).items():\n",
    "    if value==0:\n",
    "        print(key)\n",
    "        zero_cols.append(key)\n",
    "        if key in asteroid_rank_columns:\n",
    "            print(\"\\t but in asteroind_rank_columns\")"
   ]
  },
  {
   "cell_type": "markdown",
   "metadata": {},
   "source": [
    "These look like Comet features, probably in AsteroidRank for API simplification"
   ]
  },
  {
   "cell_type": "code",
   "execution_count": 23,
   "metadata": {
    "collapsed": false
   },
   "outputs": [
    {
     "data": {
      "text/plain": [
       "Index(['spkid', 'full_name', 'pdes', 'name', 'neo', 'pha', 'H', 'G',\n       'diameter', 'extent', 'albedo', 'rot_per', 'GM', 'BV', 'UB', 'IR',\n       'spec_B', 'spec_T', 'H_sigma', 'diameter_sigma', 'orbit_id', 'epoch',\n       'epoch_mjd', 'epoch_cal', 'equinox', 'e', 'a', 'q', 'i', 'om', 'w',\n       'ma', 'ad', 'n', 'tp', 'tp_cal', 'per', 'per_y', 'moid', 'moid_ld',\n       'moid_jup', 't_jup', 'sigma_e', 'sigma_a', 'sigma_q', 'sigma_i',\n       'sigma_om', 'sigma_w', 'sigma_ma', 'sigma_ad', 'sigma_n', 'sigma_tp',\n       'sigma_per', 'class', 'producer', 'data_arc', 'first_obs', 'last_obs',\n       'n_obs_used', 'n_del_obs_used', 'n_dop_obs_used', 'condition_code',\n       'rms', 'two_body', 'A1', 'A2'],\n      dtype='object')"
      ]
     },
     "execution_count": 23,
     "metadata": {},
     "output_type": "execute_result"
    }
   ],
   "source": [
    "jpl_df2 = jpl_df.drop(zero_cols,axis=1)\n",
    "jpl_df2.columns"
   ]
  },
  {
   "cell_type": "code",
   "execution_count": 73,
   "metadata": {},
   "outputs": [
    {
     "name": "stdout",
     "output_type": "stream",
     "text": [
      "rows =732354\ncolumns = 67\n"
     ]
    }
   ],
   "source": [
    "print(\"rows =%d\"%len(jpl_df2))\n",
    "print(\"columns = %d\"%len(jpl_df2.columns))"
   ]
  },
  {
   "cell_type": "heading",
   "metadata": {},
   "level": 2,
   "source": [
    "Now to get dv data"
   ]
  },
  {
   "cell_type": "code",
   "execution_count": 26,
   "metadata": {},
   "outputs": [
    {
     "name": "stdout",
     "output_type": "stream",
     "text": [
      "rows =730407\ncolumns = 1\n"
     ]
    }
   ],
   "source": [
    "asterank_dv_df = pd.read_csv(\"Data/Asterank_computed_dv_20170408.csv\",low_memory=False,index_col='pdes')\n",
    "\n",
    "print(\"rows =%d\"%len(asterank_dv_df))\n",
    "print(\"columns = %d\"%len(asterank_dv_df.columns))"
   ]
  },
  {
   "cell_type": "code",
   "execution_count": 93,
   "metadata": {
    "collapsed": true
   },
   "outputs": [
    {
     "data": {
      "text/html": [
       "<div>\n",
       "<table border=\"1\" class=\"dataframe\">\n",
       "  <thead>\n",
       "    <tr style=\"text-align: right;\">\n",
       "      <th></th>\n",
       "      <th>dv</th>\n",
       "    </tr>\n",
       "    <tr>\n",
       "      <th>pdes</th>\n",
       "      <th></th>\n",
       "    </tr>\n",
       "  </thead>\n",
       "  <tbody>\n",
       "    <tr>\n",
       "      <th>1</th>\n",
       "      <td>10.533885</td>\n",
       "    </tr>\n",
       "    <tr>\n",
       "      <th>10</th>\n",
       "      <td>10.461966</td>\n",
       "    </tr>\n",
       "    <tr>\n",
       "      <th>100</th>\n",
       "      <td>10.241299</td>\n",
       "    </tr>\n",
       "    <tr>\n",
       "      <th>1000</th>\n",
       "      <td>11.456043</td>\n",
       "    </tr>\n",
       "    <tr>\n",
       "      <th>10000</th>\n",
       "      <td>10.387258</td>\n",
       "    </tr>\n",
       "    <tr>\n",
       "      <th>100000</th>\n",
       "      <td>10.534720</td>\n",
       "    </tr>\n",
       "    <tr>\n",
       "      <th>100001</th>\n",
       "      <td>9.489282</td>\n",
       "    </tr>\n",
       "    <tr>\n",
       "      <th>100002</th>\n",
       "      <td>8.693603</td>\n",
       "    </tr>\n",
       "    <tr>\n",
       "      <th>100003</th>\n",
       "      <td>8.420975</td>\n",
       "    </tr>\n",
       "    <tr>\n",
       "      <th>100004</th>\n",
       "      <td>8.658539</td>\n",
       "    </tr>\n",
       "    <tr>\n",
       "      <th>100005</th>\n",
       "      <td>8.634136</td>\n",
       "    </tr>\n",
       "    <tr>\n",
       "      <th>100006</th>\n",
       "      <td>7.180624</td>\n",
       "    </tr>\n",
       "    <tr>\n",
       "      <th>100007</th>\n",
       "      <td>12.931505</td>\n",
       "    </tr>\n",
       "    <tr>\n",
       "      <th>100008</th>\n",
       "      <td>8.606221</td>\n",
       "    </tr>\n",
       "    <tr>\n",
       "      <th>100009</th>\n",
       "      <td>8.157409</td>\n",
       "    </tr>\n",
       "    <tr>\n",
       "      <th>10001</th>\n",
       "      <td>9.215672</td>\n",
       "    </tr>\n",
       "    <tr>\n",
       "      <th>100010</th>\n",
       "      <td>10.297042</td>\n",
       "    </tr>\n",
       "    <tr>\n",
       "      <th>100011</th>\n",
       "      <td>10.123094</td>\n",
       "    </tr>\n",
       "    <tr>\n",
       "      <th>100012</th>\n",
       "      <td>12.087700</td>\n",
       "    </tr>\n",
       "    <tr>\n",
       "      <th>100013</th>\n",
       "      <td>10.247814</td>\n",
       "    </tr>\n",
       "    <tr>\n",
       "      <th>100014</th>\n",
       "      <td>9.141752</td>\n",
       "    </tr>\n",
       "    <tr>\n",
       "      <th>100015</th>\n",
       "      <td>8.114382</td>\n",
       "    </tr>\n",
       "    <tr>\n",
       "      <th>100016</th>\n",
       "      <td>8.721262</td>\n",
       "    </tr>\n",
       "    <tr>\n",
       "      <th>100017</th>\n",
       "      <td>8.212097</td>\n",
       "    </tr>\n",
       "    <tr>\n",
       "      <th>100018</th>\n",
       "      <td>8.886286</td>\n",
       "    </tr>\n",
       "    <tr>\n",
       "      <th>100019</th>\n",
       "      <td>8.786688</td>\n",
       "    </tr>\n",
       "    <tr>\n",
       "      <th>10002</th>\n",
       "      <td>10.196485</td>\n",
       "    </tr>\n",
       "    <tr>\n",
       "      <th>100020</th>\n",
       "      <td>8.375616</td>\n",
       "    </tr>\n",
       "    <tr>\n",
       "      <th>100021</th>\n",
       "      <td>8.680761</td>\n",
       "    </tr>\n",
       "    <tr>\n",
       "      <th>100022</th>\n",
       "      <td>8.028204</td>\n",
       "    </tr>\n",
       "    <tr>\n",
       "      <th>...</th>\n",
       "      <td>...</td>\n",
       "    </tr>\n",
       "    <tr>\n",
       "      <th>10006</th>\n",
       "      <td>10.341683</td>\n",
       "    </tr>\n",
       "    <tr>\n",
       "      <th>100060</th>\n",
       "      <td>10.098671</td>\n",
       "    </tr>\n",
       "    <tr>\n",
       "      <th>100061</th>\n",
       "      <td>10.384215</td>\n",
       "    </tr>\n",
       "    <tr>\n",
       "      <th>100062</th>\n",
       "      <td>9.506863</td>\n",
       "    </tr>\n",
       "    <tr>\n",
       "      <th>100063</th>\n",
       "      <td>10.610929</td>\n",
       "    </tr>\n",
       "    <tr>\n",
       "      <th>100064</th>\n",
       "      <td>9.799675</td>\n",
       "    </tr>\n",
       "    <tr>\n",
       "      <th>100065</th>\n",
       "      <td>9.793370</td>\n",
       "    </tr>\n",
       "    <tr>\n",
       "      <th>100066</th>\n",
       "      <td>10.207170</td>\n",
       "    </tr>\n",
       "    <tr>\n",
       "      <th>100067</th>\n",
       "      <td>9.205553</td>\n",
       "    </tr>\n",
       "    <tr>\n",
       "      <th>100068</th>\n",
       "      <td>9.259744</td>\n",
       "    </tr>\n",
       "    <tr>\n",
       "      <th>100069</th>\n",
       "      <td>9.528482</td>\n",
       "    </tr>\n",
       "    <tr>\n",
       "      <th>10007</th>\n",
       "      <td>11.197317</td>\n",
       "    </tr>\n",
       "    <tr>\n",
       "      <th>100070</th>\n",
       "      <td>8.990312</td>\n",
       "    </tr>\n",
       "    <tr>\n",
       "      <th>100071</th>\n",
       "      <td>9.478879</td>\n",
       "    </tr>\n",
       "    <tr>\n",
       "      <th>100072</th>\n",
       "      <td>9.778368</td>\n",
       "    </tr>\n",
       "    <tr>\n",
       "      <th>100073</th>\n",
       "      <td>14.046277</td>\n",
       "    </tr>\n",
       "    <tr>\n",
       "      <th>100074</th>\n",
       "      <td>9.069135</td>\n",
       "    </tr>\n",
       "    <tr>\n",
       "      <th>100075</th>\n",
       "      <td>8.941192</td>\n",
       "    </tr>\n",
       "    <tr>\n",
       "      <th>100076</th>\n",
       "      <td>8.190762</td>\n",
       "    </tr>\n",
       "    <tr>\n",
       "      <th>100077</th>\n",
       "      <td>9.983566</td>\n",
       "    </tr>\n",
       "    <tr>\n",
       "      <th>100078</th>\n",
       "      <td>10.470915</td>\n",
       "    </tr>\n",
       "    <tr>\n",
       "      <th>100079</th>\n",
       "      <td>9.880966</td>\n",
       "    </tr>\n",
       "    <tr>\n",
       "      <th>10008</th>\n",
       "      <td>10.126566</td>\n",
       "    </tr>\n",
       "    <tr>\n",
       "      <th>100080</th>\n",
       "      <td>9.670865</td>\n",
       "    </tr>\n",
       "    <tr>\n",
       "      <th>100081</th>\n",
       "      <td>10.406398</td>\n",
       "    </tr>\n",
       "    <tr>\n",
       "      <th>100082</th>\n",
       "      <td>10.390501</td>\n",
       "    </tr>\n",
       "    <tr>\n",
       "      <th>100083</th>\n",
       "      <td>9.173047</td>\n",
       "    </tr>\n",
       "    <tr>\n",
       "      <th>100084</th>\n",
       "      <td>8.667241</td>\n",
       "    </tr>\n",
       "    <tr>\n",
       "      <th>100085</th>\n",
       "      <td>6.609772</td>\n",
       "    </tr>\n",
       "    <tr>\n",
       "      <th>100086</th>\n",
       "      <td>8.611621</td>\n",
       "    </tr>\n",
       "  </tbody>\n",
       "</table>\n",
       "<p>100 rows × 1 columns</p>\n",
       "</div>"
      ],
      "text/plain": [
       "<div>\n",
       "<table border=\"1\" class=\"dataframe\">\n",
       "  <thead>\n",
       "    <tr style=\"text-align: right;\">\n",
       "      <th></th>\n",
       "      <th>dv</th>\n",
       "    </tr>\n",
       "    <tr>\n",
       "      <th>pdes</th>\n",
       "      <th></th>\n",
       "    </tr>\n",
       "  </thead>\n",
       "  <tbody>\n",
       "    <tr>\n",
       "      <th>1</th>\n",
       "      <td>10.533885</td>\n",
       "    </tr>\n",
       "    <tr>\n",
       "      <th>10</th>\n",
       "      <td>10.461966</td>\n",
       "    </tr>\n",
       "    <tr>\n",
       "      <th>100</th>\n",
       "      <td>10.241299</td>\n",
       "    </tr>\n",
       "    <tr>\n",
       "      <th>1000</th>\n",
       "      <td>11.456043</td>\n",
       "    </tr>\n",
       "    <tr>\n",
       "      <th>10000</th>\n",
       "      <td>10.387258</td>\n",
       "    </tr>\n",
       "    <tr>\n",
       "      <th>100000</th>\n",
       "      <td>10.534720</td>\n",
       "    </tr>\n",
       "    <tr>\n",
       "      <th>100001</th>\n",
       "      <td>9.489282</td>\n",
       "    </tr>\n",
       "    <tr>\n",
       "      <th>100002</th>\n",
       "      <td>8.693603</td>\n",
       "    </tr>\n",
       "    <tr>\n",
       "      <th>100003</th>\n",
       "      <td>8.420975</td>\n",
       "    </tr>\n",
       "    <tr>\n",
       "      <th>100004</th>\n",
       "      <td>8.658539</td>\n",
       "    </tr>\n",
       "    <tr>\n",
       "      <th>100005</th>\n",
       "      <td>8.634136</td>\n",
       "    </tr>\n",
       "    <tr>\n",
       "      <th>100006</th>\n",
       "      <td>7.180624</td>\n",
       "    </tr>\n",
       "    <tr>\n",
       "      <th>100007</th>\n",
       "      <td>12.931505</td>\n",
       "    </tr>\n",
       "    <tr>\n",
       "      <th>100008</th>\n",
       "      <td>8.606221</td>\n",
       "    </tr>\n",
       "    <tr>\n",
       "      <th>100009</th>\n",
       "      <td>8.157409</td>\n",
       "    </tr>\n",
       "    <tr>\n",
       "      <th>10001</th>\n",
       "      <td>9.215672</td>\n",
       "    </tr>\n",
       "    <tr>\n",
       "      <th>100010</th>\n",
       "      <td>10.297042</td>\n",
       "    </tr>\n",
       "    <tr>\n",
       "      <th>100011</th>\n",
       "      <td>10.123094</td>\n",
       "    </tr>\n",
       "    <tr>\n",
       "      <th>100012</th>\n",
       "      <td>12.087700</td>\n",
       "    </tr>\n",
       "    <tr>\n",
       "      <th>100013</th>\n",
       "      <td>10.247814</td>\n",
       "    </tr>\n",
       "    <tr>\n",
       "      <th>100014</th>\n",
       "      <td>9.141752</td>\n",
       "    </tr>\n",
       "    <tr>\n",
       "      <th>100015</th>\n",
       "      <td>8.114382</td>\n",
       "    </tr>\n",
       "    <tr>\n",
       "      <th>100016</th>\n",
       "      <td>8.721262</td>\n",
       "    </tr>\n",
       "    <tr>\n",
       "      <th>100017</th>\n",
       "      <td>8.212097</td>\n",
       "    </tr>\n",
       "    <tr>\n",
       "      <th>100018</th>\n",
       "      <td>8.886286</td>\n",
       "    </tr>\n",
       "    <tr>\n",
       "      <th>100019</th>\n",
       "      <td>8.786688</td>\n",
       "    </tr>\n",
       "    <tr>\n",
       "      <th>10002</th>\n",
       "      <td>10.196485</td>\n",
       "    </tr>\n",
       "    <tr>\n",
       "      <th>100020</th>\n",
       "      <td>8.375616</td>\n",
       "    </tr>\n",
       "    <tr>\n",
       "      <th>100021</th>\n",
       "      <td>8.680761</td>\n",
       "    </tr>\n",
       "    <tr>\n",
       "      <th>100022</th>\n",
       "      <td>8.028204</td>\n",
       "    </tr>\n",
       "    <tr>\n",
       "      <th>...</th>\n",
       "      <td>...</td>\n",
       "    </tr>\n",
       "    <tr>\n",
       "      <th>10006</th>\n",
       "      <td>10.341683</td>\n",
       "    </tr>\n",
       "    <tr>\n",
       "      <th>100060</th>\n",
       "      <td>10.098671</td>\n",
       "    </tr>\n",
       "    <tr>\n",
       "      <th>100061</th>\n",
       "      <td>10.384215</td>\n",
       "    </tr>\n",
       "    <tr>\n",
       "      <th>100062</th>\n",
       "      <td>9.506863</td>\n",
       "    </tr>\n",
       "    <tr>\n",
       "      <th>100063</th>\n",
       "      <td>10.610929</td>\n",
       "    </tr>\n",
       "    <tr>\n",
       "      <th>100064</th>\n",
       "      <td>9.799675</td>\n",
       "    </tr>\n",
       "    <tr>\n",
       "      <th>100065</th>\n",
       "      <td>9.793370</td>\n",
       "    </tr>\n",
       "    <tr>\n",
       "      <th>100066</th>\n",
       "      <td>10.207170</td>\n",
       "    </tr>\n",
       "    <tr>\n",
       "      <th>100067</th>\n",
       "      <td>9.205553</td>\n",
       "    </tr>\n",
       "    <tr>\n",
       "      <th>100068</th>\n",
       "      <td>9.259744</td>\n",
       "    </tr>\n",
       "    <tr>\n",
       "      <th>100069</th>\n",
       "      <td>9.528482</td>\n",
       "    </tr>\n",
       "    <tr>\n",
       "      <th>10007</th>\n",
       "      <td>11.197317</td>\n",
       "    </tr>\n",
       "    <tr>\n",
       "      <th>100070</th>\n",
       "      <td>8.990312</td>\n",
       "    </tr>\n",
       "    <tr>\n",
       "      <th>100071</th>\n",
       "      <td>9.478879</td>\n",
       "    </tr>\n",
       "    <tr>\n",
       "      <th>100072</th>\n",
       "      <td>9.778368</td>\n",
       "    </tr>\n",
       "    <tr>\n",
       "      <th>100073</th>\n",
       "      <td>14.046277</td>\n",
       "    </tr>\n",
       "    <tr>\n",
       "      <th>100074</th>\n",
       "      <td>9.069135</td>\n",
       "    </tr>\n",
       "    <tr>\n",
       "      <th>100075</th>\n",
       "      <td>8.941192</td>\n",
       "    </tr>\n",
       "    <tr>\n",
       "      <th>100076</th>\n",
       "      <td>8.190762</td>\n",
       "    </tr>\n",
       "    <tr>\n",
       "      <th>100077</th>\n",
       "      <td>9.983566</td>\n",
       "    </tr>\n",
       "    <tr>\n",
       "      <th>100078</th>\n",
       "      <td>10.470915</td>\n",
       "    </tr>\n",
       "    <tr>\n",
       "      <th>100079</th>\n",
       "      <td>9.880966</td>\n",
       "    </tr>\n",
       "    <tr>\n",
       "      <th>10008</th>\n",
       "      <td>10.126566</td>\n",
       "    </tr>\n",
       "    <tr>\n",
       "      <th>100080</th>\n",
       "      <td>9.670865</td>\n",
       "    </tr>\n",
       "    <tr>\n",
       "      <th>100081</th>\n",
       "      <td>10.406398</td>\n",
       "    </tr>\n",
       "    <tr>\n",
       "      <th>100082</th>\n",
       "      <td>10.390501</td>\n",
       "    </tr>\n",
       "    <tr>\n",
       "      <th>100083</th>\n",
       "      <td>9.173047</td>\n",
       "    </tr>\n",
       "    <tr>\n",
       "      <th>100084</th>\n",
       "      <td>8.667241</td>\n",
       "    </tr>\n",
       "    <tr>\n",
       "      <th>100085</th>\n",
       "      <td>6.609772</td>\n",
       "    </tr>\n",
       "    <tr>\n",
       "      <th>100086</th>\n",
       "      <td>8.611621</td>\n",
       "    </tr>\n",
       "  </tbody>\n",
       "</table>\n",
       "<p>100 rows × 1 columns</p>\n",
       "</div>"
      ]
     },
     "execution_count": 93,
     "metadata": {},
     "output_type": "execute_result"
    }
   ],
   "source": [
    "asterank_dv_df.sort_index(ascending=True).head(100)"
   ]
  },
  {
   "cell_type": "code",
   "execution_count": 78,
   "metadata": {},
   "outputs": [
    {
     "data": {
      "text/plain": [
       "count    730078.000000\nmean          9.918571\nstd           1.373073\nmin           3.826952\n25%           9.037506\n50%           9.883558\n75%          10.583367\nmax          53.673297\nName: dv, dtype: float64"
      ]
     },
     "execution_count": 78,
     "metadata": {},
     "output_type": "execute_result"
    }
   ],
   "source": [
    "asterank_dv_df[\"dv\"].describe()"
   ]
  },
  {
   "cell_type": "code",
   "execution_count": 67,
   "metadata": {},
   "outputs": [],
   "source": [
    "def get_asterank_pdes(row):\n",
    "    \n",
    "    splitted = row.split(\"(\")\n",
    "    if len(splitted)==1:\n",
    "        return splitted[0]\n",
    "    else:\n",
    "        return splitted[1][:len(splitted[1])-1]  \n",
    "\n",
    "\n",
    "jpl_df2[\"asterank_pdes\"] = jpl_df2['full_name'].apply(lambda x : get_asterank_pdes(x))"
   ]
  },
  {
   "cell_type": "code",
   "execution_count": 68,
   "metadata": {
    "collapsed": false
   },
   "outputs": [
    {
     "data": {
      "text/html": [
       "<div>\n",
       "<table border=\"1\" class=\"dataframe\">\n",
       "  <thead>\n",
       "    <tr style=\"text-align: right;\">\n",
       "      <th></th>\n",
       "      <th>pdes</th>\n",
       "      <th>full_name</th>\n",
       "      <th>asterank_pdes</th>\n",
       "    </tr>\n",
       "    <tr>\n",
       "      <th>id</th>\n",
       "      <th></th>\n",
       "      <th></th>\n",
       "      <th></th>\n",
       "    </tr>\n",
       "  </thead>\n",
       "  <tbody>\n",
       "    <tr>\n",
       "      <th>a0000330</th>\n",
       "      <td>330</td>\n",
       "      <td>330 Adalberta (A910 CB)</td>\n",
       "      <td>A910 CB</td>\n",
       "    </tr>\n",
       "    <tr>\n",
       "      <th>a0000333</th>\n",
       "      <td>333</td>\n",
       "      <td>333 Badenia (1892 A)</td>\n",
       "      <td>1892 A</td>\n",
       "    </tr>\n",
       "    <tr>\n",
       "      <th>a0000334</th>\n",
       "      <td>334</td>\n",
       "      <td>334 Chicago (1892 L)</td>\n",
       "      <td>1892 L</td>\n",
       "    </tr>\n",
       "  </tbody>\n",
       "</table>\n",
       "</div>"
      ],
      "text/plain": [
       "<div>\n",
       "<table border=\"1\" class=\"dataframe\">\n",
       "  <thead>\n",
       "    <tr style=\"text-align: right;\">\n",
       "      <th></th>\n",
       "      <th>pdes</th>\n",
       "      <th>full_name</th>\n",
       "      <th>asterank_pdes</th>\n",
       "    </tr>\n",
       "    <tr>\n",
       "      <th>id</th>\n",
       "      <th></th>\n",
       "      <th></th>\n",
       "      <th></th>\n",
       "    </tr>\n",
       "  </thead>\n",
       "  <tbody>\n",
       "    <tr>\n",
       "      <th>a0000330</th>\n",
       "      <td>330</td>\n",
       "      <td>330 Adalberta (A910 CB)</td>\n",
       "      <td>A910 CB</td>\n",
       "    </tr>\n",
       "    <tr>\n",
       "      <th>a0000333</th>\n",
       "      <td>333</td>\n",
       "      <td>333 Badenia (1892 A)</td>\n",
       "      <td>1892 A</td>\n",
       "    </tr>\n",
       "    <tr>\n",
       "      <th>a0000334</th>\n",
       "      <td>334</td>\n",
       "      <td>334 Chicago (1892 L)</td>\n",
       "      <td>1892 L</td>\n",
       "    </tr>\n",
       "  </tbody>\n",
       "</table>\n",
       "</div>"
      ]
     },
     "execution_count": 68,
     "metadata": {},
     "output_type": "execute_result"
    }
   ],
   "source": [
    "jpl_df2[['pdes','full_name','asterank_pdes']][jpl_df2['full_name'].str.contains('\\(')].head(3)"
   ]
  },
  {
   "cell_type": "code",
   "execution_count": 94,
   "metadata": {},
   "outputs": [],
   "source": [
    "jpl_df3 = pd.merge(jpl_df2,asterank_dv_df,how='left',left_on=\"pdes\",right_index=True)"
   ]
  },
  {
   "cell_type": "code",
   "execution_count": 95,
   "metadata": {},
   "outputs": [
    {
     "name": "stdout",
     "output_type": "stream",
     "text": [
      "rows =732354\ncolumns = 68\n"
     ]
    }
   ],
   "source": [
    "print(\"rows =%d\"%len(jpl_df3))\n",
    "print(\"columns = %d\"%len(jpl_df3.columns))"
   ]
  },
  {
   "cell_type": "code",
   "execution_count": 96,
   "metadata": {},
   "outputs": [
    {
     "data": {
      "text/plain": [
       "count    723329.000000\nmean          9.902653\nstd           1.253921\nmin           3.826952\n25%           9.035381\n50%           9.879806\n75%          10.578269\nmax          53.673297\nName: dv, dtype: float64"
      ]
     },
     "execution_count": 96,
     "metadata": {},
     "output_type": "execute_result"
    }
   ],
   "source": [
    "jpl_df3[\"dv\"].describe()"
   ]
  },
  {
   "cell_type": "code",
   "execution_count": 97,
   "metadata": {
    "collapsed": true
   },
   "outputs": [
    {
     "data": {
      "text/html": [
       "<div>\n",
       "<table border=\"1\" class=\"dataframe\">\n",
       "  <thead>\n",
       "    <tr style=\"text-align: right;\">\n",
       "      <th></th>\n",
       "      <th>pdes</th>\n",
       "      <th>full_name</th>\n",
       "      <th>asterank_pdes</th>\n",
       "      <th>dv</th>\n",
       "    </tr>\n",
       "    <tr>\n",
       "      <th>id</th>\n",
       "      <th></th>\n",
       "      <th></th>\n",
       "      <th></th>\n",
       "      <th></th>\n",
       "    </tr>\n",
       "  </thead>\n",
       "  <tbody>\n",
       "    <tr>\n",
       "      <th>a0000001</th>\n",
       "      <td>1</td>\n",
       "      <td>1 Ceres</td>\n",
       "      <td>1 Ceres</td>\n",
       "      <td>10.533885</td>\n",
       "    </tr>\n",
       "    <tr>\n",
       "      <th>a0000002</th>\n",
       "      <td>2</td>\n",
       "      <td>2 Pallas</td>\n",
       "      <td>2 Pallas</td>\n",
       "      <td>14.168266</td>\n",
       "    </tr>\n",
       "    <tr>\n",
       "      <th>a0000003</th>\n",
       "      <td>3</td>\n",
       "      <td>3 Juno</td>\n",
       "      <td>3 Juno</td>\n",
       "      <td>9.683807</td>\n",
       "    </tr>\n",
       "    <tr>\n",
       "      <th>a0000004</th>\n",
       "      <td>4</td>\n",
       "      <td>4 Vesta</td>\n",
       "      <td>4 Vesta</td>\n",
       "      <td>9.383595</td>\n",
       "    </tr>\n",
       "    <tr>\n",
       "      <th>a0000005</th>\n",
       "      <td>5</td>\n",
       "      <td>5 Astraea</td>\n",
       "      <td>5 Astraea</td>\n",
       "      <td>9.206538</td>\n",
       "    </tr>\n",
       "    <tr>\n",
       "      <th>a0000006</th>\n",
       "      <td>6</td>\n",
       "      <td>6 Hebe</td>\n",
       "      <td>6 Hebe</td>\n",
       "      <td>9.752704</td>\n",
       "    </tr>\n",
       "    <tr>\n",
       "      <th>a0000007</th>\n",
       "      <td>7</td>\n",
       "      <td>7 Iris</td>\n",
       "      <td>7 Iris</td>\n",
       "      <td>8.598047</td>\n",
       "    </tr>\n",
       "    <tr>\n",
       "      <th>a0000008</th>\n",
       "      <td>8</td>\n",
       "      <td>8 Flora</td>\n",
       "      <td>8 Flora</td>\n",
       "      <td>8.563821</td>\n",
       "    </tr>\n",
       "    <tr>\n",
       "      <th>a0000009</th>\n",
       "      <td>9</td>\n",
       "      <td>9 Metis</td>\n",
       "      <td>9 Metis</td>\n",
       "      <td>9.172799</td>\n",
       "    </tr>\n",
       "    <tr>\n",
       "      <th>a0000010</th>\n",
       "      <td>10</td>\n",
       "      <td>10 Hygiea</td>\n",
       "      <td>10 Hygiea</td>\n",
       "      <td>10.461966</td>\n",
       "    </tr>\n",
       "  </tbody>\n",
       "</table>\n",
       "</div>"
      ],
      "text/plain": [
       "<div>\n",
       "<table border=\"1\" class=\"dataframe\">\n",
       "  <thead>\n",
       "    <tr style=\"text-align: right;\">\n",
       "      <th></th>\n",
       "      <th>pdes</th>\n",
       "      <th>full_name</th>\n",
       "      <th>asterank_pdes</th>\n",
       "      <th>dv</th>\n",
       "    </tr>\n",
       "    <tr>\n",
       "      <th>id</th>\n",
       "      <th></th>\n",
       "      <th></th>\n",
       "      <th></th>\n",
       "      <th></th>\n",
       "    </tr>\n",
       "  </thead>\n",
       "  <tbody>\n",
       "    <tr>\n",
       "      <th>a0000001</th>\n",
       "      <td>1</td>\n",
       "      <td>1 Ceres</td>\n",
       "      <td>1 Ceres</td>\n",
       "      <td>10.533885</td>\n",
       "    </tr>\n",
       "    <tr>\n",
       "      <th>a0000002</th>\n",
       "      <td>2</td>\n",
       "      <td>2 Pallas</td>\n",
       "      <td>2 Pallas</td>\n",
       "      <td>14.168266</td>\n",
       "    </tr>\n",
       "    <tr>\n",
       "      <th>a0000003</th>\n",
       "      <td>3</td>\n",
       "      <td>3 Juno</td>\n",
       "      <td>3 Juno</td>\n",
       "      <td>9.683807</td>\n",
       "    </tr>\n",
       "    <tr>\n",
       "      <th>a0000004</th>\n",
       "      <td>4</td>\n",
       "      <td>4 Vesta</td>\n",
       "      <td>4 Vesta</td>\n",
       "      <td>9.383595</td>\n",
       "    </tr>\n",
       "    <tr>\n",
       "      <th>a0000005</th>\n",
       "      <td>5</td>\n",
       "      <td>5 Astraea</td>\n",
       "      <td>5 Astraea</td>\n",
       "      <td>9.206538</td>\n",
       "    </tr>\n",
       "    <tr>\n",
       "      <th>a0000006</th>\n",
       "      <td>6</td>\n",
       "      <td>6 Hebe</td>\n",
       "      <td>6 Hebe</td>\n",
       "      <td>9.752704</td>\n",
       "    </tr>\n",
       "    <tr>\n",
       "      <th>a0000007</th>\n",
       "      <td>7</td>\n",
       "      <td>7 Iris</td>\n",
       "      <td>7 Iris</td>\n",
       "      <td>8.598047</td>\n",
       "    </tr>\n",
       "    <tr>\n",
       "      <th>a0000008</th>\n",
       "      <td>8</td>\n",
       "      <td>8 Flora</td>\n",
       "      <td>8 Flora</td>\n",
       "      <td>8.563821</td>\n",
       "    </tr>\n",
       "    <tr>\n",
       "      <th>a0000009</th>\n",
       "      <td>9</td>\n",
       "      <td>9 Metis</td>\n",
       "      <td>9 Metis</td>\n",
       "      <td>9.172799</td>\n",
       "    </tr>\n",
       "    <tr>\n",
       "      <th>a0000010</th>\n",
       "      <td>10</td>\n",
       "      <td>10 Hygiea</td>\n",
       "      <td>10 Hygiea</td>\n",
       "      <td>10.461966</td>\n",
       "    </tr>\n",
       "  </tbody>\n",
       "</table>\n",
       "</div>"
      ]
     },
     "execution_count": 97,
     "metadata": {},
     "output_type": "execute_result"
    }
   ],
   "source": [
    "jpl_df3[['pdes','full_name','asterank_pdes','dv']].head(10)"
   ]
  },
  {
   "cell_type": "code",
   "execution_count": 101,
   "metadata": {
    "collapsed": false
   },
   "outputs": [
    {
     "data": {
      "text/plain": [
       "9025"
      ]
     },
     "execution_count": 101,
     "metadata": {},
     "output_type": "execute_result"
    }
   ],
   "source": [
    "len(jpl_df3[~jpl_df3[\"dv\"].notnull()])"
   ]
  },
  {
   "cell_type": "markdown",
   "metadata": {},
   "source": [
    "These 9025 have a strange key mismatch. Instead of doing some magic to make things work, I will let them with Nan.\n",
    "\n",
    "If later the feature prove to have value, them we can recover."
   ]
  },
  {
   "cell_type": "code",
   "execution_count": 103,
   "metadata": {},
   "outputs": [],
   "source": [
    "jpl_df3.to_csv(\"Data/Computed/jpl_population_20170408.csv\")"
   ]
  },
  {
   "cell_type": "code",
   "execution_count": 4,
   "metadata": {},
   "outputs": [
    {
     "data": {
      "text/plain": [
       "(732354, 68)"
      ]
     },
     "execution_count": 3,
     "metadata": {},
     "output_type": "execute_result"
    }
   ],
   "source": [
    "jpl_df3 = pd.read_csv(\"Data/Computed/jpl_population_20170408.csv\", low_memory=False, index_col='id')\n",
    "jpl_df3.shape"
   ]
  },
  {
   "cell_type": "code",
   "execution_count": 5,
   "metadata": {},
   "outputs": [
    {
     "data": {
      "text/plain": [
       "Index(['spkid', 'full_name', 'pdes', 'name', 'neo', 'pha', 'H', 'G',\n       'diameter', 'extent', 'albedo', 'rot_per', 'GM', 'BV', 'UB', 'IR',\n       'spec_B', 'spec_T', 'H_sigma', 'diameter_sigma', 'orbit_id', 'epoch',\n       'epoch_mjd', 'epoch_cal', 'equinox', 'e', 'a', 'q', 'i', 'om', 'w',\n       'ma', 'ad', 'n', 'tp', 'tp_cal', 'per', 'per_y', 'moid', 'moid_ld',\n       'moid_jup', 't_jup', 'sigma_e', 'sigma_a', 'sigma_q', 'sigma_i',\n       'sigma_om', 'sigma_w', 'sigma_ma', 'sigma_ad', 'sigma_n', 'sigma_tp',\n       'sigma_per', 'class', 'producer', 'data_arc', 'first_obs', 'last_obs',\n       'n_obs_used', 'n_del_obs_used', 'n_dop_obs_used', 'condition_code',\n       'rms', 'two_body', 'A1', 'A2', 'asterank_pdes', 'dv'],\n      dtype='object')"
      ]
     },
     "execution_count": 5,
     "metadata": {},
     "output_type": "execute_result"
    }
   ],
   "source": [
    "jpl_df3.columns"
   ]
  }
 ],
 "metadata": {
  "kernelspec": {
   "display_name": "Python 2",
   "language": "python",
   "name": "python2"
  },
  "language_info": {
   "codemirror_mode": {
    "name": "ipython",
    "version": 2.0
   },
   "file_extension": ".py",
   "mimetype": "text/x-python",
   "name": "python",
   "nbconvert_exporter": "python",
   "pygments_lexer": "ipython2",
   "version": "2.7.6"
  }
 },
 "nbformat": 4,
 "nbformat_minor": 0
}